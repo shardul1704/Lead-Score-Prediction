{
 "cells": [
  {
   "cell_type": "code",
   "execution_count": 1,
   "id": "20d8f021",
   "metadata": {},
   "outputs": [
    {
     "ename": "ModuleNotFoundError",
     "evalue": "No module named 'pycaret'",
     "output_type": "error",
     "traceback": [
      "\u001b[1;31m---------------------------------------------------------------------------\u001b[0m",
      "\u001b[1;31mModuleNotFoundError\u001b[0m                       Traceback (most recent call last)",
      "\u001b[1;32m~\\AppData\\Local\\Temp/ipykernel_8964/4276563972.py\u001b[0m in \u001b[0;36m<module>\u001b[1;34m\u001b[0m\n\u001b[0;32m      3\u001b[0m \u001b[1;32mimport\u001b[0m \u001b[0mnumpy\u001b[0m \u001b[1;32mas\u001b[0m \u001b[0mnp\u001b[0m\u001b[1;33m\u001b[0m\u001b[1;33m\u001b[0m\u001b[0m\n\u001b[0;32m      4\u001b[0m \u001b[1;32mimport\u001b[0m \u001b[0mplotly\u001b[0m\u001b[1;33m.\u001b[0m\u001b[0mexpress\u001b[0m \u001b[1;32mas\u001b[0m \u001b[0mpx\u001b[0m\u001b[1;33m\u001b[0m\u001b[1;33m\u001b[0m\u001b[0m\n\u001b[1;32m----> 5\u001b[1;33m \u001b[1;32mfrom\u001b[0m \u001b[0mpycaret\u001b[0m\u001b[1;33m.\u001b[0m\u001b[0mclassification\u001b[0m \u001b[1;32mimport\u001b[0m \u001b[1;33m*\u001b[0m\u001b[1;33m\u001b[0m\u001b[1;33m\u001b[0m\u001b[0m\n\u001b[0m\u001b[0;32m      6\u001b[0m \u001b[1;33m\u001b[0m\u001b[0m\n\u001b[0;32m      7\u001b[0m \u001b[1;31m# read csv data\u001b[0m\u001b[1;33m\u001b[0m\u001b[1;33m\u001b[0m\u001b[0m\n",
      "\u001b[1;31mModuleNotFoundError\u001b[0m: No module named 'pycaret'"
     ]
    }
   ],
   "source": [
    "# import libraries\n",
    "import pandas as pd\n",
    "import numpy as np\n",
    "import plotly.express as px\n",
    "from pycaret.classification import *\n",
    "\n",
    "# read csv data\n",
    "data = pd.read_csv('Leads.csv')\n",
    "data.head()"
   ]
  },
  {
   "cell_type": "code",
   "execution_count": null,
   "id": "cc2ce04d",
   "metadata": {},
   "outputs": [],
   "source": [
    "# check data info\n",
    "data.info()"
   ]
  },
  {
   "cell_type": "code",
   "execution_count": null,
   "id": "9608689d",
   "metadata": {},
   "outputs": [],
   "source": [
    "# creating a copy of data\n",
    "data2 = data.copy()\n",
    "data2.dropna(axis=0, inplace=True)\n",
    "data2['Converted'] = data2['Converted'].replace({1 : 'Yes', 0 : 'No'})\n",
    "\n",
    "# plotly visual\n",
    "\n",
    "fig = px.scatter(x=data2['Total Time Spent on Website'], y=data2['Asymmetrique Activity Score'], \n",
    "                 color = data2['Converted'], template = 'plotly_white', \n",
    "                 facet_col = data2['Lead Origin'], facet_row = data2['Do Not Email'],\n",
    "                 title = 'Lead Conversion by Total time spent on Website, Activity Score and Lead Origin',\n",
    "                 labels = {'x' : 'Total Time Spent on Website', 'y' : 'Activity Score'})\n",
    "                \n",
    "fig.show()"
   ]
  },
  {
   "cell_type": "code",
   "execution_count": null,
   "id": "a84aac9f",
   "metadata": {},
   "outputs": [],
   "source": [
    "# init setup\n",
    "s = setup(data, target = 'Converted', ignore_features = ['Prospect ID', 'Lead Number'])"
   ]
  },
  {
   "cell_type": "code",
   "execution_count": null,
   "id": "fbca5073",
   "metadata": {},
   "outputs": [],
   "source": [
    "# compare all models\n",
    "best_model = compare_models(sort='AUC')"
   ]
  },
  {
   "cell_type": "code",
   "execution_count": null,
   "id": "f660fcc1",
   "metadata": {},
   "outputs": [],
   "source": [
    "# print best_model parameters\n",
    "print(best_model.get_all_params())"
   ]
  },
  {
   "cell_type": "code",
   "execution_count": null,
   "id": "0e232bda",
   "metadata": {},
   "outputs": [],
   "source": [
    "# AUC Plot\n",
    "plot_model(best_model, plot = 'auc')"
   ]
  },
  {
   "cell_type": "code",
   "execution_count": null,
   "id": "ff027e4f",
   "metadata": {},
   "outputs": [],
   "source": [
    "# Shapley Values\n",
    "interpret_model(best_model)"
   ]
  },
  {
   "cell_type": "code",
   "execution_count": null,
   "id": "77fcd9b7",
   "metadata": {},
   "outputs": [],
   "source": [
    "# Feature Importance\n",
    "plot_model(best_model, plot = 'feature')"
   ]
  },
  {
   "cell_type": "code",
   "execution_count": null,
   "id": "a8f02643",
   "metadata": {},
   "outputs": [],
   "source": [
    "# Confusion Matrix\n",
    "plot_model(best_model, plot = 'confusion_matrix')"
   ]
  },
  {
   "cell_type": "code",
   "execution_count": null,
   "id": "7d810725",
   "metadata": {},
   "outputs": [],
   "source": [
    "# create a custom function\n",
    "def calculate_profit(y, y_pred):\n",
    "    tp = np.where((y_pred==1) & (y==1), (120-15), 0)\n",
    "    fp = np.where((y_pred==1) & (y==0), -15, 0)\n",
    "    fn = np.where((y_pred==0) & (y==1), -120, 0)\n",
    "    return np.sum([tp,fp,fn])# add metric to PyCaret\n",
    "add_metric('profit', 'Profit', calculate_profit)"
   ]
  },
  {
   "cell_type": "code",
   "execution_count": null,
   "id": "1cd23470",
   "metadata": {},
   "outputs": [],
   "source": [
    "# compare all models\n",
    "best_model = compare_models(sort='Profit')"
   ]
  },
  {
   "cell_type": "code",
   "execution_count": null,
   "id": "bc559e3f",
   "metadata": {},
   "outputs": [],
   "source": [
    "# confusion matrix\n",
    "plot_model(best_model, plot = 'confusion_matrix')"
   ]
  },
  {
   "cell_type": "code",
   "execution_count": null,
   "id": "728d0c2c",
   "metadata": {},
   "outputs": [],
   "source": [
    "# create copy of data\n",
    "data_new = data.copy()\n",
    "data_new.drop('Converted', axis=1, inplace=True)# generate labels using predict_model\n",
    "predict_model(best_model, data=data_new, raw_score=True)"
   ]
  }
 ],
 "metadata": {
  "kernelspec": {
   "display_name": "Python 3 (ipykernel)",
   "language": "python",
   "name": "python3"
  },
  "language_info": {
   "codemirror_mode": {
    "name": "ipython",
    "version": 3
   },
   "file_extension": ".py",
   "mimetype": "text/x-python",
   "name": "python",
   "nbconvert_exporter": "python",
   "pygments_lexer": "ipython3",
   "version": "3.9.12"
  }
 },
 "nbformat": 4,
 "nbformat_minor": 5
}
